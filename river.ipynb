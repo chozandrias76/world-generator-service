{
 "cells": [
  {
   "cell_type": "markdown",
   "metadata": {},
   "source": [
    "#### Import all modules:\n",
    "- **preprocess:** includes utility functions such as contrast stretching, image type conversion, and water index computation  \n",
    "- **singularity_index:** extracts curvilinear structures  \n",
    "- **delineate:** delineate rivers and estimate their widths  \n",
    "- **georef:** loads and saves georeferenced files  \n",
    "- **visualization:** includes visualization functions  "
   ]
  },
  {
   "cell_type": "code",
   "execution_count": null,
   "metadata": {
    "collapsed": true
   },
   "outputs": [],
   "source": [
    "import cv2\n",
    "from rivamap import preprocess, singularity_index, delineate, georef, visualization"
   ]
  },
  {
   "cell_type": "markdown",
   "metadata": {},
   "source": [
    "Read bands 3 and 6 of an example Landsat 8 image.\n",
    "You can download the example images from AWS:\n",
    "\n",
    "- http://landsat-pds.s3.amazonaws.com/L8/138/045/LC81380452015067LGN00/LC81380452015067LGN00_B3.TIF\n",
    "- http://landsat-pds.s3.amazonaws.com/L8/138/045/LC81380452015067LGN00/LC81380452015067LGN00_B6.TIF\n"
   ]
  },
  {
   "cell_type": "code",
   "execution_count": null,
   "metadata": {
    "collapsed": true
   },
   "outputs": [],
   "source": [
    "B3 = cv2.imread(\"LC81380452015067LGN00_B3.TIF\", cv2.IMREAD_UNCHANGED)\n",
    "B6 = cv2.imread(\"LC81380452015067LGN00_B6.TIF\", cv2.IMREAD_UNCHANGED)"
   ]
  },
  {
   "cell_type": "markdown",
   "metadata": {},
   "source": [
    "Compute the modified normalized difference water index of the input and save the result if needed.\n",
    "You can do this also on Google Earth Engine."
   ]
  },
  {
   "cell_type": "code",
   "execution_count": null,
   "metadata": {
    "collapsed": true
   },
   "outputs": [],
   "source": [
    "I1 = preprocess.mndwi(B3, B6)\n",
    "cv2.imwrite(\"mndwi.TIF\", cv2.normalize(I1, None, 0, 255, cv2.NORM_MINMAX))"
   ]
  },
  {
   "cell_type": "markdown",
   "metadata": {},
   "source": [
    "Create the filters that are needed to compute the multiscale singularity index and apply the index to extract curvilinear structures from the input image. The singularity index function returns the overall singularity index response, width estimates, and channel orientation for each pixel whether or not they are river centerlines. We will find the river centerlines in the next step. You can save or view the overall singularity index response if needed."
   ]
  },
  {
   "cell_type": "code",
   "execution_count": null,
   "metadata": {
    "collapsed": true
   },
   "outputs": [],
   "source": [
    "filters = singularity_index.SingularityIndexFilters()\n",
    "psi, widthMap, orient = singularity_index.applyMMSI(I1, filters)\n",
    "cv2.imwrite(\"psi.TIF\", cv2.normalize(psi, None, 0, 255, cv2.NORM_MINMAX))"
   ]
  },
  {
   "cell_type": "markdown",
   "metadata": {},
   "source": [
    "Extract and threshold centerlines to delineate rivers."
   ]
  },
  {
   "cell_type": "code",
   "execution_count": null,
   "metadata": {
    "collapsed": true
   },
   "outputs": [],
   "source": [
    "nms = delineate.extractCenterlines(orient, psi)\n",
    "centerlines = delineate.thresholdCenterlines(nms)\n",
    "cv2.imwrite(\"nms.TIF\", cv2.normalize(nms, None, 0, 255, cv2.NORM_MINMAX))"
   ]
  },
  {
   "cell_type": "markdown",
   "metadata": {},
   "source": [
    "Generate a map of the extracted channels. The functions draw lines orthogonal to channel orientations to visualize width. The raster map function runs faster than the vector map function."
   ]
  },
  {
   "cell_type": "code",
   "execution_count": null,
   "metadata": {
    "collapsed": true
   },
   "outputs": [],
   "source": [
    "raster = visualization.generateRasterMap(centerlines, orient, widthMap)\n",
    "cv2.imwrite(\"rasterMap.TIF\", cv2.normalize(raster, None, 0, 255, cv2.NORM_MINMAX))\n",
    "visualization.generateVectorMap(centerlines, orient, widthMap, saveDest = \"vector.pdf\")"
   ]
  },
  {
   "cell_type": "markdown",
   "metadata": {},
   "source": [
    "Create a quiver plot showing the magnitude and direction of channels. This function runs very slow for large input images."
   ]
  },
  {
   "cell_type": "code",
   "execution_count": null,
   "metadata": {
    "collapsed": true
   },
   "outputs": [],
   "source": [
    "visualization.quiverPlot(psi, orient, saveDest = \"quiver.pdf\")"
   ]
  },
  {
   "cell_type": "markdown",
   "metadata": {},
   "source": [
    "Save the results as georeferenced files."
   ]
  },
  {
   "cell_type": "code",
   "execution_count": null,
   "metadata": {
    "collapsed": true
   },
   "outputs": [],
   "source": [
    "# An example of exporting a geotiff file\n",
    "gm = georef.loadGeoMetadata(\"LC81380452015067LGN00_B3.TIF\")\n",
    "psi = preprocess.contrastStretch(raster)\n",
    "psi = preprocess.double2im(raster, 'uint16')\n",
    "georef.saveAsGeoTiff(gm, raster, \"raster_geotagged.TIF\")\n",
    "\n",
    "# Export the (coordinate, width) pairs to a comma separated text file\n",
    "georef.exportCSVfile(centerlines, widthMap, gm, \"results.csv\")\n",
    "# Export line segments to a shapefile\n",
    "georef.exportShapeFile(centerlines, widthMap, gm, \"results\")"
   ]
  }
 ],
 "metadata": {
  "kernelspec": {
   "display_name": "Python 2",
   "language": "python2",
   "name": "python2"
  },
  "language_info": {
   "codemirror_mode": {
    "name": "ipython",
    "version": 2
   },
   "file_extension": ".py",
   "mimetype": "text/x-python",
   "name": "python",
   "nbconvert_exporter": "python",
   "pygments_lexer": "ipython2",
   "version": "2.7.11"
  }
 },
 "nbformat": 4,
 "nbformat_minor": 0
}
