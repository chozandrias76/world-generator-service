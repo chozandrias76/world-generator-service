{
 "cells": [
  {
   "cell_type": "code",
   "execution_count": 30,
   "id": "d12e7e74-9ce6-4449-92f4-78326b574368",
   "metadata": {},
   "outputs": [
    {
     "ename": "AttributeError",
     "evalue": "'NoneType' object has no attribute 'ReadAsArray'",
     "output_type": "error",
     "traceback": [
      "\u001b[0;31m---------------------------------------------------------------------------\u001b[0m",
      "\u001b[0;31mAttributeError\u001b[0m                            Traceback (most recent call last)",
      "\u001b[1;32m/mnt/d/world-generator-service/tiff-segmenter.ipynb Cell 1\u001b[0m line \u001b[0;36m5\n\u001b[1;32m     <a href='vscode-notebook-cell://wsl%2Bubuntu/mnt/d/world-generator-service/tiff-segmenter.ipynb#W0sdnNjb2RlLXJlbW90ZQ%3D%3D?line=47'>48</a>\u001b[0m feature_path \u001b[39m=\u001b[39m \u001b[39mr\u001b[39m\u001b[39m\"\u001b[39m\u001b[39mgis-raw/\u001b[39m\u001b[39m\"\u001b[39m\n\u001b[1;32m     <a href='vscode-notebook-cell://wsl%2Bubuntu/mnt/d/world-generator-service/tiff-segmenter.ipynb#W0sdnNjb2RlLXJlbW90ZQ%3D%3D?line=48'>49</a>\u001b[0m feature_file \u001b[39m=\u001b[39m \u001b[39mr\u001b[39m\u001b[39m\"\u001b[39m\u001b[39m{feature_path}\u001b[39;00m\u001b[39m{feature_name}\u001b[39;00m\u001b[39m.tif\u001b[39m\u001b[39m\"\u001b[39m\n\u001b[0;32m---> <a href='vscode-notebook-cell://wsl%2Bubuntu/mnt/d/world-generator-service/tiff-segmenter.ipynb#W0sdnNjb2RlLXJlbW90ZQ%3D%3D?line=49'>50</a>\u001b[0m features \u001b[39m=\u001b[39m imageChipsFromFile(feature_file, x_size\u001b[39m=\u001b[39;49m\u001b[39m7\u001b[39;49m, y_size\u001b[39m=\u001b[39;49m\u001b[39m7\u001b[39;49m)\n\u001b[1;32m     <a href='vscode-notebook-cell://wsl%2Bubuntu/mnt/d/world-generator-service/tiff-segmenter.ipynb#W0sdnNjb2RlLXJlbW90ZQ%3D%3D?line=50'>51</a>\u001b[0m \u001b[39mprint\u001b[39m(\u001b[39m\"\u001b[39m\u001b[39mShape of features:\u001b[39m\u001b[39m\"\u001b[39m, features\u001b[39m.\u001b[39mshape)\n\u001b[1;32m     <a href='vscode-notebook-cell://wsl%2Bubuntu/mnt/d/world-generator-service/tiff-segmenter.ipynb#W0sdnNjb2RlLXJlbW90ZQ%3D%3D?line=51'>52</a>\u001b[0m feature_name \u001b[39m=\u001b[39m \u001b[39mf\u001b[39m\u001b[39m\"\u001b[39m\u001b[39m{\u001b[39;00mlabel_name\u001b[39m}\u001b[39;00m\u001b[39m.npy\u001b[39m\u001b[39m\"\u001b[39m\n",
      "File \u001b[0;32m/mnt/d/world-generator-service/world-generator-service/lib/python3.10/site-packages/pyrsgis/ml/__init__.py:205\u001b[0m, in \u001b[0;36mimageChipsFromFile\u001b[0;34m(infile, y_size, x_size)\u001b[0m\n\u001b[1;32m    204\u001b[0m \u001b[39mdef\u001b[39;00m \u001b[39mimageChipsFromFile\u001b[39m(infile, y_size\u001b[39m=\u001b[39m\u001b[39m5\u001b[39m, x_size\u001b[39m=\u001b[39m\u001b[39m5\u001b[39m):\n\u001b[0;32m--> 205\u001b[0m     ds, data_arr \u001b[39m=\u001b[39m read(infile)\n\u001b[1;32m    207\u001b[0m     \u001b[39mreturn\u001b[39;00m(imageChipsFromArray(data_arr, y_size\u001b[39m=\u001b[39my_size, x_size\u001b[39m=\u001b[39mx_size))\n",
      "File \u001b[0;32m/mnt/d/world-generator-service/world-generator-service/lib/python3.10/site-packages/pyrsgis/raster/__init__.py:143\u001b[0m, in \u001b[0;36mread\u001b[0;34m(file, bands)\u001b[0m\n\u001b[1;32m    141\u001b[0m \u001b[39mif\u001b[39;00m \u001b[39mtype\u001b[39m(bands) \u001b[39m==\u001b[39m \u001b[39mtype\u001b[39m(\u001b[39m'\u001b[39m\u001b[39mall\u001b[39m\u001b[39m'\u001b[39m):\n\u001b[1;32m    142\u001b[0m     \u001b[39mif\u001b[39;00m bands\u001b[39m.\u001b[39mlower()\u001b[39m==\u001b[39m\u001b[39m'\u001b[39m\u001b[39mall\u001b[39m\u001b[39m'\u001b[39m:\n\u001b[0;32m--> 143\u001b[0m         array \u001b[39m=\u001b[39m ds\u001b[39m.\u001b[39;49mReadAsArray()\n\u001b[1;32m    144\u001b[0m         ds \u001b[39m=\u001b[39m _create_ds(ds)\n\u001b[1;32m    145\u001b[0m         \u001b[39mreturn\u001b[39;00m(ds, array)\n",
      "\u001b[0;31mAttributeError\u001b[0m: 'NoneType' object has no attribute 'ReadAsArray'"
     ]
    }
   ],
   "source": [
    "import os\n",
    "from osgeo import gdal\n",
    "import numpy as np\n",
    "from pyrsgis import raster\n",
    "from pyrsgis.ml import imageChipsFromFile\n",
    "\n",
    "class TiffProcessor:\n",
    "    def __init__(self, filepath):\n",
    "        self.dataset = gdal.Open(filepath)\n",
    "        if self.dataset is None:\n",
    "            raise Exception(\"Could not open the dataset\")\n",
    "        self.x_size = self.dataset.RasterXSize\n",
    "        self.y_size = self.dataset.RasterYSize\n",
    "        self.tile_size = 500\n",
    "\n",
    "    def create_tile(self, x_offset, y_offset, channel, output_filename):\n",
    "        band = self.dataset.GetRasterBand(channel)\n",
    "        tile_data = band.ReadAsArray(x_offset, y_offset, self.tile_size, self.tile_size)\n",
    "        if tile_data is None:\n",
    "            return\n",
    "        \n",
    "        # Normalizing the tile_data\n",
    "        min_val = tile_data.min()\n",
    "        max_val = tile_data.max()\n",
    "        tile_data = (tile_data - min_val) / (max_val - min_val)\n",
    "        \n",
    "        driver = gdal.GetDriverByName('GTiff')\n",
    "        output = driver.Create(output_filename, self.tile_size, self.tile_size, 1, gdal.GDT_Float32)\n",
    "        output_band = output.GetRasterBand(1)\n",
    "        output_band.WriteArray(tile_data)\n",
    "        output = None  # Close the file\n",
    "\n",
    "    def process_tiles(self):\n",
    "        output_directory = f\"tile-{self.dataset.GetDescription().split('/')[-1].split('.')[0]}\"\n",
    "        if not os.path.exists(output_directory):\n",
    "            os.makedirs(output_directory)\n",
    "    \n",
    "        for y_offset in range(0, self.y_size, self.tile_size):\n",
    "            for x_offset in range(0, self.x_size, self.tile_size):\n",
    "                output_filename = os.path.join(output_directory, f\"x{x_offset}_y{y_offset}.tif\")\n",
    "                self.create_tile(x_offset, y_offset, 1, output_filename)\n",
    "                    \n",
    "\n",
    "if __name__ == '__main__':\n",
    "    # processor = TiffProcessor('gis-raw/n00_e011_1arc_v3.tif')\n",
    "    # processor.process_tiles()\n",
    "    feature_name = r\"n00_e011_1arc_v3\"\n",
    "    feature_path = r\"gis-raw/\"\n",
    "    feature_file = r\"{feature_path}{feature_name}.tif\"\n",
    "    features = imageChipsFromFile(feature_file, x_size=7, y_size=7)\n",
    "    print(\"Shape of features:\", features.shape)\n",
    "    feature_name = f\"{label_name}.npy\"\n",
    "    \n",
    "    # np.save(feature_name, features)\n",
    "\n",
    "    built_features = features\n",
    "\n"
   ]
  },
  {
   "cell_type": "code",
   "execution_count": null,
   "id": "966026a8-3847-462b-9cfb-208745354d5b",
   "metadata": {},
   "outputs": [],
   "source": []
  }
 ],
 "metadata": {
  "kernelspec": {
   "display_name": "Python 3 (ipykernel)",
   "language": "python",
   "name": "python3"
  }
 },
 "nbformat": 4,
 "nbformat_minor": 5
}
