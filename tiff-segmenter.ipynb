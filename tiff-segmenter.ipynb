{
 "cells": [
  {
   "cell_type": "code",
   "execution_count": 1,
   "id": "d12e7e74-9ce6-4449-92f4-78326b574368",
   "metadata": {},
   "outputs": [
    {
     "ename": "ModuleNotFoundError",
     "evalue": "No module named 'pyrsgis'",
     "output_type": "error",
     "traceback": [
      "\u001b[0;31m---------------------------------------------------------------------------\u001b[0m",
      "\u001b[0;31mModuleNotFoundError\u001b[0m                       Traceback (most recent call last)",
      "\u001b[0;32m/tmp/ipykernel_426204/2189740961.py\u001b[0m in \u001b[0;36m<module>\u001b[0;34m\u001b[0m\n\u001b[1;32m      2\u001b[0m \u001b[0;32mfrom\u001b[0m \u001b[0mosgeo\u001b[0m \u001b[0;32mimport\u001b[0m \u001b[0mgdal\u001b[0m\u001b[0;34m\u001b[0m\u001b[0;34m\u001b[0m\u001b[0m\n\u001b[1;32m      3\u001b[0m \u001b[0;32mimport\u001b[0m \u001b[0mnumpy\u001b[0m \u001b[0;32mas\u001b[0m \u001b[0mnp\u001b[0m\u001b[0;34m\u001b[0m\u001b[0;34m\u001b[0m\u001b[0m\n\u001b[0;32m----> 4\u001b[0;31m \u001b[0;32mfrom\u001b[0m \u001b[0mpyrsgis\u001b[0m \u001b[0;32mimport\u001b[0m \u001b[0mraster\u001b[0m\u001b[0;34m\u001b[0m\u001b[0;34m\u001b[0m\u001b[0m\n\u001b[0m\u001b[1;32m      5\u001b[0m \u001b[0;32mfrom\u001b[0m \u001b[0mpyrsgis\u001b[0m\u001b[0;34m.\u001b[0m\u001b[0mml\u001b[0m \u001b[0;32mimport\u001b[0m \u001b[0mimageChipsFromFile\u001b[0m\u001b[0;34m\u001b[0m\u001b[0;34m\u001b[0m\u001b[0m\n\u001b[1;32m      6\u001b[0m \u001b[0;34m\u001b[0m\u001b[0m\n",
      "\u001b[0;31mModuleNotFoundError\u001b[0m: No module named 'pyrsgis'"
     ]
    }
   ],
   "source": [
    "import os\n",
    "from osgeo import gdal\n",
    "import numpy as np\n",
    "from pyrsgis import raster\n",
    "from pyrsgis.ml import imageChipsFromFile\n",
    "\n",
    "\n",
    "class TiffProcessor:\n",
    "    def __init__(self, filepath):\n",
    "        self.dataset = gdal.Open(filepath)\n",
    "        if self.dataset is None:\n",
    "            raise Exception(\"Could not open the dataset\")\n",
    "        self.x_size = self.dataset.RasterXSize\n",
    "        self.y_size = self.dataset.RasterYSize\n",
    "        self.tile_size = 500\n",
    "\n",
    "    def create_tile(self, x_offset, y_offset, channel, output_filename):\n",
    "        band = self.dataset.GetRasterBand(channel)\n",
    "        tile_data = band.ReadAsArray(x_offset, y_offset, self.tile_size, self.tile_size)\n",
    "        if tile_data is None:\n",
    "            return\n",
    "\n",
    "        # Normalizing the tile_data\n",
    "        min_val = tile_data.min()\n",
    "        max_val = tile_data.max()\n",
    "        tile_data = (tile_data - min_val) / (max_val - min_val)\n",
    "\n",
    "        driver = gdal.GetDriverByName(\"GTiff\")\n",
    "        output = driver.Create(\n",
    "            output_filename, self.tile_size, self.tile_size, 1, gdal.GDT_Float32\n",
    "        )\n",
    "        output_band = output.GetRasterBand(1)\n",
    "        output_band.WriteArray(tile_data)\n",
    "        output = None  # Close the file\n",
    "\n",
    "    def process_tiles(self):\n",
    "        output_directory = (\n",
    "            f\"tile-{self.dataset.GetDescription().split('/')[-1].split('.')[0]}\"\n",
    "        )\n",
    "        if not os.path.exists(output_directory):\n",
    "            os.makedirs(output_directory)\n",
    "\n",
    "        for y_offset in range(0, self.y_size, self.tile_size):\n",
    "            for x_offset in range(0, self.x_size, self.tile_size):\n",
    "                output_filename = os.path.join(\n",
    "                    output_directory, f\"x{x_offset}_y{y_offset}.tif\"\n",
    "                )\n",
    "                self.create_tile(x_offset, y_offset, 1, output_filename)\n",
    "\n",
    "\n",
    "if __name__ == \"__main__\":\n",
    "    # processor = TiffProcessor('gis-raw/n00_e011_1arc_v3.tif')\n",
    "    # processor.process_tiles()\n",
    "    feature_name = r\"n00_e011_1arc_v3\"\n",
    "    feature_path = r\"gis-raw/\"\n",
    "    feature_file = r\"{feature_path}{feature_name}.tif\"\n",
    "    features = imageChipsFromFile(feature_file, x_size=7, y_size=7)\n",
    "    print(\"Shape of features:\", features.shape)\n",
    "    feature_name = f\"{label_name}.npy\"\n",
    "\n",
    "    # np.save(feature_name, features)\n",
    "\n",
    "    built_features = features"
   ]
  },
  {
   "cell_type": "code",
   "execution_count": null,
   "id": "966026a8-3847-462b-9cfb-208745354d5b",
   "metadata": {},
   "outputs": [],
   "source": []
  }
 ],
 "metadata": {
  "kernelspec": {
   "display_name": "Python 3 (ipykernel)",
   "language": "python",
   "name": "python3"
  },
  "language_info": {
   "codemirror_mode": {
    "name": "ipython",
    "version": 3
   },
   "file_extension": ".py",
   "mimetype": "text/x-python",
   "name": "python",
   "nbconvert_exporter": "python",
   "pygments_lexer": "ipython3",
   "version": "3.7.17"
  }
 },
 "nbformat": 4,
 "nbformat_minor": 5
}
