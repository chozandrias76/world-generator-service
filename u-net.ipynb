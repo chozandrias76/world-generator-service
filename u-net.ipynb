{
 "cells": [
  {
   "cell_type": "code",
   "execution_count": 31,
   "metadata": {},
   "outputs": [
    {
     "name": "stderr",
     "output_type": "stream",
     "text": [
      "2023-10-04 07:36:03.776587: I tensorflow/tsl/cuda/cudart_stub.cc:28] Could not find cuda drivers on your machine, GPU will not be used.\n",
      "2023-10-04 07:36:07.051744: E tensorflow/compiler/xla/stream_executor/cuda/cuda_dnn.cc:9342] Unable to register cuDNN factory: Attempting to register factory for plugin cuDNN when one has already been registered\n",
      "2023-10-04 07:36:07.051774: E tensorflow/compiler/xla/stream_executor/cuda/cuda_fft.cc:609] Unable to register cuFFT factory: Attempting to register factory for plugin cuFFT when one has already been registered\n",
      "2023-10-04 07:36:07.068863: E tensorflow/compiler/xla/stream_executor/cuda/cuda_blas.cc:1518] Unable to register cuBLAS factory: Attempting to register factory for plugin cuBLAS when one has already been registered\n",
      "2023-10-04 07:36:08.886693: I tensorflow/tsl/cuda/cudart_stub.cc:28] Could not find cuda drivers on your machine, GPU will not be used.\n",
      "2023-10-04 07:36:08.899751: I tensorflow/core/platform/cpu_feature_guard.cc:182] This TensorFlow binary is optimized to use available CPU instructions in performance-critical operations.\n",
      "To enable the following instructions: AVX2 FMA, in other operations, rebuild TensorFlow with the appropriate compiler flags.\n",
      "2023-10-04 07:36:23.835558: W tensorflow/compiler/tf2tensorrt/utils/py_utils.cc:38] TF-TRT Warning: Could not find TensorRT\n"
     ]
    }
   ],
   "source": [
    "import tensorflow as tf\n",
    "\n",
    "class UNet:\n",
    "    def __init__(self, input_shape=(256, 256, 3), num_classes=1, encoder_config=None):\n",
    "        self.input_shape = input_shape\n",
    "        self.num_classes = num_classes\n",
    "        self.encoder_config = encoder_config if encoder_config else [(64, (3, 3), (2, 2)), (128, (3, 3), (2, 2))]\n",
    "        self.model = self.build_model()\n",
    "        \n",
    "    def encoder(self, x, filters, kernel_size, strides):\n",
    "        x = tf.keras.layers.Conv2D(filters, kernel_size, strides=strides, padding='same')(x)\n",
    "        x = tf.keras.layers.BatchNormalization()(x)\n",
    "        x = tf.keras.layers.ReLU()(x)\n",
    "        return x\n",
    "    \n",
    "    def decoder(self, x, skip, filters, kernel_size, strides):\n",
    "        x = tf.keras.layers.UpSampling2D()(x)\n",
    "        x = tf.keras.layers.concatenate([x, skip])\n",
    "        x = self.encoder(x, filters, kernel_size, strides)\n",
    "        return x\n",
    "    \n",
    "    def build_model(self):\n",
    "        inputs = tf.keras.Input(shape=self.input_shape)\n",
    "        x = inputs\n",
    "        skip_connections = []\n",
    "        \n",
    "        # Encoder\n",
    "        for enc in self.encoder_config:\n",
    "            x = self.encoder(x, *enc)\n",
    "            skip_connections.append(x)\n",
    "        \n",
    "        # Decoder (you can also make this configurable)\n",
    "        for skip, enc in reversed(list(zip(skip_connections[:-1], self.encoder_config[:-1]))):\n",
    "            x = self.decoder(x, skip, *enc)\n",
    "        \n",
    "        # Output layer\n",
    "        outputs = tf.keras.layers.Conv2D(self.num_classes, (1, 1), activation='softmax')(x)\n",
    "        \n",
    "        model = tf.keras.Model(inputs=inputs, outputs=outputs)\n",
    "        \n",
    "        return model\n",
    "    \n",
    "    def compile(self, optimizer, loss, metrics):\n",
    "        self.model.compile(optimizer=optimizer, loss=loss, metrics=metrics)\n",
    "    \n",
    "    def summary(self):\n",
    "        return self.model.summary()\n"
   ]
  },
  {
   "cell_type": "code",
   "execution_count": 32,
   "metadata": {},
   "outputs": [
    {
     "name": "stdout",
     "output_type": "stream",
     "text": [
      "Model: \"model\"\n",
      "__________________________________________________________________________________________________\n",
      " Layer (type)                Output Shape                 Param #   Connected to                  \n",
      "==================================================================================================\n",
      " input_1 (InputLayer)        [(None, 256, 256, 3)]        0         []                            \n",
      "                                                                                                  \n",
      " conv2d (Conv2D)             (None, 128, 128, 64)         1792      ['input_1[0][0]']             \n",
      "                                                                                                  \n",
      " batch_normalization (Batch  (None, 128, 128, 64)         256       ['conv2d[0][0]']              \n",
      " Normalization)                                                                                   \n",
      "                                                                                                  \n",
      " re_lu (ReLU)                (None, 128, 128, 64)         0         ['batch_normalization[0][0]'] \n",
      "                                                                                                  \n",
      " conv2d_1 (Conv2D)           (None, 64, 64, 128)          73856     ['re_lu[0][0]']               \n",
      "                                                                                                  \n",
      " batch_normalization_1 (Bat  (None, 64, 64, 128)          512       ['conv2d_1[0][0]']            \n",
      " chNormalization)                                                                                 \n",
      "                                                                                                  \n",
      " re_lu_1 (ReLU)              (None, 64, 64, 128)          0         ['batch_normalization_1[0][0]'\n",
      "                                                                    ]                             \n",
      "                                                                                                  \n",
      " up_sampling2d (UpSampling2  (None, 128, 128, 128)        0         ['re_lu_1[0][0]']             \n",
      " D)                                                                                               \n",
      "                                                                                                  \n",
      " concatenate (Concatenate)   (None, 128, 128, 192)        0         ['up_sampling2d[0][0]',       \n",
      "                                                                     're_lu[0][0]']               \n",
      "                                                                                                  \n",
      " conv2d_2 (Conv2D)           (None, 64, 64, 64)           110656    ['concatenate[0][0]']         \n",
      "                                                                                                  \n",
      " batch_normalization_2 (Bat  (None, 64, 64, 64)           256       ['conv2d_2[0][0]']            \n",
      " chNormalization)                                                                                 \n",
      "                                                                                                  \n",
      " re_lu_2 (ReLU)              (None, 64, 64, 64)           0         ['batch_normalization_2[0][0]'\n",
      "                                                                    ]                             \n",
      "                                                                                                  \n",
      " conv2d_3 (Conv2D)           (None, 64, 64, 1)            65        ['re_lu_2[0][0]']             \n",
      "                                                                                                  \n",
      "==================================================================================================\n",
      "Total params: 187393 (732.00 KB)\n",
      "Trainable params: 186881 (730.00 KB)\n",
      "Non-trainable params: 512 (2.00 KB)\n",
      "__________________________________________________________________________________________________\n"
     ]
    }
   ],
   "source": [
    "# Example usage\n",
    "encoder_config = [(64, (3, 3), (2, 2)), (128, (3, 3), (2, 2))]\n",
    "unet = UNet(input_shape=(256, 256, 3), num_classes=1, encoder_config=encoder_config)\n",
    "unet.compile(optimizer='adam', loss='binary_crossentropy', metrics=['accuracy'])\n",
    "unet.summary()"
   ]
  }
 ],
 "metadata": {
  "kernelspec": {
   "display_name": "Python 3 (ipykernel)",
   "language": "python",
   "name": "python3"
  },
  "language_info": {
   "codemirror_mode": {
    "name": "ipython",
    "version": 3
   },
   "file_extension": ".py",
   "mimetype": "text/x-python",
   "name": "python",
   "nbconvert_exporter": "python",
   "pygments_lexer": "ipython3",
   "version": "3.10.6"
  },
  "orig_nbformat": 4
 },
 "nbformat": 4,
 "nbformat_minor": 2
}
